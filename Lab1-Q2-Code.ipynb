{
 "cells": [
  {
   "cell_type": "code",
   "execution_count": 1,
   "id": "d515b79c-1e76-4b7e-89d8-6ff151eb9edf",
   "metadata": {},
   "outputs": [],
   "source": [
    "import numpy as np"
   ]
  },
  {
   "cell_type": "code",
   "execution_count": 102,
   "id": "675d3e70-5f42-44df-9301-a92460b853b9",
   "metadata": {},
   "outputs": [],
   "source": [
    "import pandas as pd\n",
    "from io import StringIO  # Import StringIO"
   ]
  },
  {
   "cell_type": "code",
   "execution_count": 34,
   "id": "26549ee3-2bbb-4838-a07c-244909cf56f8",
   "metadata": {},
   "outputs": [],
   "source": [
    "#Load the matrix from the file \"Data.txt\"\n",
    "matrix = np.loadtxt(r\"C:\\Users\\munny001\\Documents\\Python Scripts\\Data.txt\", dtype=int)  # Read the matrix from the file as integer type\n"
   ]
  },
  {
   "cell_type": "code",
   "execution_count": 104,
   "id": "5eb28842-5690-4465-84a7-ff3b718240af",
   "metadata": {},
   "outputs": [
    {
     "name": "stdout",
     "output_type": "stream",
     "text": [
      "The original matrix is as follows:\n",
      "26 8 2 12 67 89 8 78 56 7\n",
      "13 9 57 11 10 99 15 90 88 15\n",
      "6 23 28 32 53 59 48 41 60 62\n",
      "17 6 93 95 20 25 29 31 71 30\n",
      "16 13 26 22 14 66 71 5 2 91\n",
      "40 53 22 18 44 73 77 84 89 88\n",
      "34 54 89 8 65 74 96 3 1 80\n",
      "14 28 39 44 86 88 75 77 93 4\n",
      "65 66 82 97 51 41 28 33 55 79\n",
      "13 48 71 98 26 38 55 59 7 19\n"
     ]
    }
   ],
   "source": [
    "# Printing the original matrix \n",
    "buffer = StringIO() # Create an in-memory text stream\n",
    "np.savetxt(buffer, matrix, fmt='%d') # Save the matrix to the in-memory text stream\n",
    "matrix_str = buffer.getvalue() # Get the string representation of the matrix\n",
    "print(\"The original matrix is as follows:\") #Pronting the header line\n",
    "print(matrix_str.strip())  # Print the matrix string, removing any extra whitespace"
   ]
  },
  {
   "cell_type": "code",
   "execution_count": 136,
   "id": "d19f0995-2768-4449-aeaf-db6412f83859",
   "metadata": {},
   "outputs": [
    {
     "name": "stdout",
     "output_type": "stream",
     "text": [
      "\n",
      "The first three random numbers are 3, 1, and 9 which makes Matrix 1 as follows:\n",
      " 2 26 56\n",
      "57 13 88\n",
      "28  6 60\n",
      "93 17 71\n",
      "26 16  2\n",
      "22 40 89\n",
      "89 34  1\n",
      "39 14 93\n",
      "82 65 55\n",
      "71 13  7\n"
     ]
    }
   ],
   "source": [
    "#Select columns 3, 1, and 9 as per the instruction (without sorting)\n",
    "Matrix1 = matrix[:, [2, 0, 8]]  # Selecting columns 3 (index 2), 1 (index 0), and 9 (index 8)\n",
    "# Print the matrix with columns 3, 1, and 9 in the original order (without sorting)\n",
    "print(\"\\nThe first three random numbers are 3, 1, and 9 which makes Matrix 1 as follows:\")\n",
    "df1 = pd.DataFrame(Matrix1) # Convert Matrix1 to a pandas DataFrame for formatted printing\n",
    "print(df1.to_string(index=False, header=False)) # to Printing the DataFrame without row numbers or column headers"
   ]
  },
  {
   "cell_type": "code",
   "execution_count": 98,
   "id": "824d33eb-1b9c-4ded-b669-f345cc0806a3",
   "metadata": {},
   "outputs": [
    {
     "name": "stdout",
     "output_type": "stream",
     "text": [
      "\n",
      "Matrix1 (sorted by column 3 in ascending order):\n",
      " 2 26 56\n",
      "22 40 89\n",
      "26 16  2\n",
      "28  6 60\n",
      "39 14 93\n",
      "57 13 88\n",
      "71 13  7\n",
      "82 65 55\n",
      "89 34  1\n",
      "93 17 71\n"
     ]
    }
   ],
   "source": [
    "# Select columns 3, 1, and 9 and sort them in ascending order of column 3\n",
    "Matrix1 = matrix[:, [2, 0, 8]]  # Selecting columns 3, 1, and 9 from the matrix\n",
    "Matrix1_sorted = Matrix1[np.argsort(Matrix1[:, 0])]  # Sorting by column 3 (ascending)\n",
    "# Print Matrix1_sorted using pandas DataFrame\n",
    "df1 = pd.DataFrame(Matrix1_sorted) #to converting the sorted Matrix1 (which is a NumPy array) to a pandas DataFrame\n",
    "print(\"\\nMatrix1 (sorted by column 3 in ascending order):\") #to printing the header for Matrix1 \n",
    " # Print the DataFrame as a string without row indices and column headers \n",
    "#where`index=False` prevents row indices from being printed\n",
    "# and`header=False` prevents column headers from being printed\n",
    "print(df1.to_string(index=False, header=False))"
   ]
  },
  {
   "cell_type": "code",
   "execution_count": 138,
   "id": "76d381b0-1ebd-42e9-96ca-15fc3af8e1a0",
   "metadata": {},
   "outputs": [
    {
     "name": "stdout",
     "output_type": "stream",
     "text": [
      "\n",
      "Selected columns (5, 2, and 7):\n",
      "67  8  8\n",
      "10  9 15\n",
      "53 23 48\n",
      "20  6 29\n",
      "14 13 71\n",
      "44 53 77\n",
      "65 54 96\n",
      "86 28 75\n",
      "51 66 28\n",
      "26 48 55\n"
     ]
    }
   ],
   "source": [
    "# Select columns 5, 2, and 7 \n",
    "Matrix2 = matrix[:, [4, 1, 6]]  # Selecting column 5 (index 4), column 2 (index 1), and column 7 (index 6)\n",
    "# Print the selected columns (5, 2, and 7)\n",
    "print(\"\\nSelected columns (5, 2, and 7):\")\n",
    "\n",
    "df2 = pd.DataFrame(Matrix2) # to converting Matrix2 to a pandas DataFrame for formatted printing\n",
    "print(df2.to_string(index=False, header=False)) # to printing the DataFrame without row numbers or column headers"
   ]
  },
  {
   "cell_type": "code",
   "execution_count": 106,
   "id": "e4cbef67-57da-458f-93dc-92178a68ece1",
   "metadata": {},
   "outputs": [
    {
     "name": "stdout",
     "output_type": "stream",
     "text": [
      "\n",
      "Matrix2 (sorted by column 5 in descending order):\n",
      "86 28 75\n",
      "67  8  8\n",
      "65 54 96\n",
      "53 23 48\n",
      "51 66 28\n",
      "44 53 77\n",
      "26 48 55\n",
      "20  6 29\n",
      "14 13 71\n",
      "10  9 15\n"
     ]
    }
   ],
   "source": [
    "#Select columns 5, 2, and 7 and sort them in descending order of column 5\n",
    "Matrix2 = matrix[:, [4, 1, 6]]  # Selecting columns 5, 2, and 7\n",
    "Matrix2_sorted = Matrix2[np.argsort(Matrix2[:, 0])[::-1]]  # Sorting by column 5 (descending)\n",
    "\n",
    "# Print Matrix2_sorted using pandas DataFrame\n",
    "df2 = pd.DataFrame(Matrix2_sorted)\n",
    "print(\"\\nMatrix2 (sorted by column 5 in descending order):\") # to printing the header for Matrix2\n",
    "print(df2.to_string(index=False, header=False)) # to print the DataFrame as a string without row indices or column headers"
   ]
  },
  {
   "cell_type": "code",
   "execution_count": 118,
   "id": "cfd26194-6d44-456d-8156-22306abfe878",
   "metadata": {},
   "outputs": [
    {
     "name": "stdout",
     "output_type": "stream",
     "text": [
      "\n",
      "Matrix 1    Matrix 2    Matrix 3\n",
      "========================================\n",
      " 2 26 56 86 28 75  88 54 131\n",
      "22 40 89 67  8  8  89 48  97\n",
      "26 16  2 65 54 96  91 70  98\n",
      "28  6 60 53 23 48  81 29 108\n",
      "39 14 93 51 66 28  90 80 121\n",
      "57 13 88 44 53 77 101 66 165\n",
      "71 13  7 26 48 55  97 61  62\n",
      "82 65 55 20  6 29 102 71  84\n",
      "89 34  1 14 13 71 103 47  72\n",
      "93 17 71 10  9 15 103 26  86\n"
     ]
    }
   ],
   "source": [
    "# Add the two sorted matrices to create Matrix3\n",
    "Matrix3 = Matrix1_sorted + Matrix2_sorted\n",
    "\n",
    "# Print Matrix1, Matrix2, and Matrix3 side by side\n",
    "df1 = pd.DataFrame(Matrix1_sorted) #Converting Matrix1_sorted to a pandas DataFrame\n",
    "df2 = pd.DataFrame(Matrix2_sorted) # Converting Matrix2_sorted to a pandas DataFrame\n",
    "df3 = pd.DataFrame(Matrix3) # Converting Matrix3 to a pandas DataFrame\n",
    "print(\"\\nMatrix 1    Matrix 2    Matrix 3\") # to print the header for Matrix1, Matrix2, and Matrix3\n",
    "print(\"=\" * 40) # Printing a separator line \n",
    "combined_df = pd.concat([df1, df2, df3], axis=1) # Combine df1, df2, and df3 side by side into a single DataFrame\n",
    "print(combined_df.to_string(index=False, header=False)) # Print the combined DataFrame without row indices and column headers"
   ]
  },
  {
   "cell_type": "code",
   "execution_count": 120,
   "id": "e33cae6b-7f5b-4562-a90c-fc7cdacba521",
   "metadata": {},
   "outputs": [
    {
     "name": "stdout",
     "output_type": "stream",
     "text": [
      "\n",
      "After adding the content of Matrix3 to get Matrix4 we get:\n",
      "273\n",
      "234\n",
      "259\n",
      "218\n",
      "291\n",
      "332\n",
      "220\n",
      "257\n",
      "222\n",
      "215\n"
     ]
    }
   ],
   "source": [
    "#Add each row of Matrix 3 to create Matrix4 (10 by 1 matrix)\n",
    "Matrix4 = np.sum(Matrix3, axis=1).reshape(-1, 1) # Calculate the sum of each row in Matrix3 and reshape it into a 10 by 1 matrix\n",
    "\n",
    "print(\"\\nAfter adding the content of Matrix3 to get Matrix4 we get:\") #  Print the header for the Matrix4 output\n",
    "print('\\n'.join(map(str, Matrix4.flatten()))) # Flatten Matrix4 into a 1D array and print each value on a new line"
   ]
  },
  {
   "cell_type": "code",
   "execution_count": 122,
   "id": "0bd76111-d228-49e0-b164-0943cfc821c4",
   "metadata": {},
   "outputs": [
    {
     "name": "stdout",
     "output_type": "stream",
     "text": [
      "\n",
      "Sorting Matrix4 in ascending order:\n",
      "215\n",
      "218\n",
      "220\n",
      "222\n",
      "234\n",
      "257\n",
      "259\n",
      "273\n",
      "291\n",
      "332\n"
     ]
    }
   ],
   "source": [
    "#Sort Matrix4 in ascending order\n",
    "Matrix4_sorted = np.sort(Matrix4, axis=0)\n",
    "print(\"\\nSorting Matrix4 in ascending order:\") # to print the header for the sorted Matrix4 output\n",
    "print('\\n'.join(map(str, Matrix4_sorted.flatten()))) # Flatten Matrix4_sorted into a 1D array and print each value on a new line"
   ]
  },
  {
   "cell_type": "code",
   "execution_count": null,
   "id": "b00d76f7-bd25-45c1-b905-13b65a9ee648",
   "metadata": {},
   "outputs": [],
   "source": []
  }
 ],
 "metadata": {
  "kernelspec": {
   "display_name": "Python 3 (ipykernel)",
   "language": "python",
   "name": "python3"
  },
  "language_info": {
   "codemirror_mode": {
    "name": "ipython",
    "version": 3
   },
   "file_extension": ".py",
   "mimetype": "text/x-python",
   "name": "python",
   "nbconvert_exporter": "python",
   "pygments_lexer": "ipython3",
   "version": "3.12.4"
  }
 },
 "nbformat": 4,
 "nbformat_minor": 5
}
